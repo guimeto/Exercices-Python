{
 "cells": [
  {
   "cell_type": "markdown",
   "metadata": {},
   "source": [
    "## Exercices Python\n",
    "\n",
    "### Niveau avancé\n",
    "\n",
    "<b> - 1: Recréer la méthode isdigit </b>"
   ]
  },
  {
   "cell_type": "code",
   "execution_count": 2,
   "metadata": {},
   "outputs": [
    {
     "data": {
      "text/plain": [
       "'0123456789'"
      ]
     },
     "execution_count": 2,
     "metadata": {},
     "output_type": "execute_result"
    }
   ],
   "source": [
    "import string\n",
    " \n",
    "symboles = string.digits\n",
    "symboles"
   ]
  },
  {
   "cell_type": "code",
   "execution_count": 3,
   "metadata": {},
   "outputs": [
    {
     "name": "stdout",
     "output_type": "stream",
     "text": [
      "True\n"
     ]
    }
   ],
   "source": [
    "def isdigit(nombre):\n",
    "    for n in nombre:\n",
    "        if n not in symboles:\n",
    "            return False\n",
    "    return True\n",
    "\n",
    "print(isdigit(\"1854274\"))"
   ]
  },
  {
   "cell_type": "code",
   "execution_count": 6,
   "metadata": {},
   "outputs": [
    {
     "name": "stdout",
     "output_type": "stream",
     "text": [
      "True\n"
     ]
    }
   ],
   "source": [
    "def isdigit(variable):\n",
    "    for i in variable:\n",
    "        if i not in [str(n) for n in range(10)]:\n",
    "            return False\n",
    " \n",
    "    return True\n",
    " \n",
    "print(isdigit(\"1854274\"))"
   ]
  },
  {
   "cell_type": "markdown",
   "metadata": {},
   "source": [
    "POINTS IMPORTANTS À RETENIR\n",
    "\n",
    "Pour créer rapidement et efficacement des listes, on peut utiliser des compréhensions de liste et la fonction range.\n",
    "\n",
    "Pour vérifier si une variable est présente ou non dans une liste, on utilise \"in\" dans une condition : if variable in liste. La condition retournera True si la variable est présente dans la liste et False dans le cas contraire."
   ]
  },
  {
   "cell_type": "markdown",
   "metadata": {},
   "source": [
    "<b> - 2: Recréer la méthode join </b>"
   ]
  },
  {
   "cell_type": "code",
   "execution_count": 9,
   "metadata": {},
   "outputs": [
    {
     "name": "stdout",
     "output_type": "stream",
     "text": [
      "Bonjour:tout:le:monde\n"
     ]
    }
   ],
   "source": [
    "def join(*args):\n",
    "    resultat = \"\"\n",
    "    \n",
    "    separateur = args[0]\n",
    "    elements = args[1:]\n",
    "    \n",
    "    for element in elements:\n",
    "        resultat += element + separateur\n",
    " \n",
    "    return resultat[:-1]\n",
    " \n",
    "j = join(\":\", \"Bonjour\", \"tout\", \"le\", \"monde\")\n",
    "print(j)"
   ]
  },
  {
   "cell_type": "markdown",
   "metadata": {},
   "source": [
    "Notre fonction join pouvant accepter un nombre indéfini de paramètre, il nous faudra donc utiliser les \"args\":\n",
    "<b>def join(*args)</b>\n",
    "\n",
    "Cette syntaxe nous permet de passer un nombre indéfini d'arguments à notre fonction : ces arguments seront récupérables dans la liste \"args\" à l'intérieur de notre fonction.\n",
    "\n",
    "À l'intérieur de notre fonction, nous récupérons donc le premier élément de la liste args, qui correspondra au séparateur utilisé pour joindre les arguments suivants :"
   ]
  },
  {
   "cell_type": "code",
   "execution_count": 14,
   "metadata": {},
   "outputs": [
    {
     "name": "stdout",
     "output_type": "stream",
     "text": [
      ":\n",
      "('Bonjour', 'tout', 'le', 'monde')\n"
     ]
    }
   ],
   "source": [
    "def join(*args):\n",
    "    separateur = args[0]\n",
    "    elements = args[1:]\n",
    "    print(separateur)\n",
    "    print(elements)\n",
    "    \n",
    "join(\":\", \"Bonjour\", \"tout\", \"le\", \"monde\")    "
   ]
  },
  {
   "cell_type": "markdown",
   "metadata": {},
   "source": [
    "POINTS IMPORTANTS À RETENIR\n",
    "\n",
    "Pour envoyer et récupérer un nombre indéfini d'arguments à une fonction, on utilise *args.\n",
    "\n",
    "Pour récupérer tous les éléments d'une liste sauf le premier, on utilise la syntaxe de slice [1:]\n",
    "\n",
    "Pour récupérer tous les éléments d'une liste ou d'une chaîne de caractère sauf le dernier, on utilise la syntaxe de slice [:-1]"
   ]
  },
  {
   "cell_type": "markdown",
   "metadata": {},
   "source": [
    "<b> - 3: Créer un code qui crée un dossier par lettre de l'alphabet </b>"
   ]
  },
  {
   "cell_type": "code",
   "execution_count": 31,
   "metadata": {},
   "outputs": [
    {
     "name": "stdout",
     "output_type": "stream",
     "text": [
      "Successfully created the directory A \n",
      "Successfully created the directory B \n",
      "Successfully created the directory C \n",
      "Successfully created the directory D \n",
      "Successfully created the directory E \n",
      "Successfully created the directory F \n",
      "Successfully created the directory G \n",
      "Successfully created the directory H \n",
      "Successfully created the directory I \n",
      "Successfully created the directory J \n",
      "Successfully created the directory K \n",
      "Successfully created the directory L \n",
      "Successfully created the directory M \n",
      "Successfully created the directory N \n",
      "Successfully created the directory O \n",
      "Successfully created the directory P \n",
      "Successfully created the directory Q \n",
      "Successfully created the directory R \n",
      "Successfully created the directory S \n",
      "Successfully created the directory T \n",
      "Successfully created the directory U \n",
      "Successfully created the directory V \n",
      "Successfully created the directory W \n",
      "Successfully created the directory X \n",
      "Successfully created the directory Y \n",
      "Successfully created the directory Z \n"
     ]
    }
   ],
   "source": [
    "import string\n",
    "import os \n",
    "#help(string)\n",
    "\n",
    "for l in string.ascii_uppercase:\n",
    "    # define the name of the directory to be created\n",
    "    path = l\n",
    "    try:  \n",
    "        os.mkdir(path)\n",
    "    except OSError:  \n",
    "        print (\"Creation of the directory %s failed\" % path)\n",
    "    else:  \n",
    "        print (\"Successfully created the directory %s \" % path)"
   ]
  },
  {
   "cell_type": "code",
   "execution_count": 36,
   "metadata": {},
   "outputs": [],
   "source": [
    "import os\n",
    "import string\n",
    " \n",
    "directory = os.path.dirname('__file__')\n",
    "alphabet_dir = os.path.join(directory, \"alphabet\")\n",
    " \n",
    "for lettre in string.ascii_uppercase:\n",
    "    lettre_dir = os.path.join(alphabet_dir, lettre)\n",
    "    if not os.path.isdir(lettre_dir):\n",
    "        os.makedirs(lettre_dir)"
   ]
  },
  {
   "cell_type": "markdown",
   "metadata": {},
   "source": [
    "<b> - 4: Chercher un mot dans des dossiers et sous-dossiers </b>"
   ]
  },
  {
   "cell_type": "code",
   "execution_count": 38,
   "metadata": {},
   "outputs": [
    {
     "name": "stdout",
     "output_type": "stream",
     "text": [
      "['D:/Utilisateurs/guillaume/Documents/GitHub\\\\Exercices-Python\\\\fichier.txt']\n"
     ]
    }
   ],
   "source": [
    "import os\n",
    "from glob import glob\n",
    "\n",
    "dossier = \"D:/Utilisateurs/guillaume/Documents/GitHub\"\n",
    "mot = \"Python\"\n",
    "\n",
    "# f string + rechercher de maniere récursive \n",
    "fichiers = glob(f\"{dossier}/**/*.txt\", recursive = True) \n",
    "\n",
    "fichiers_trouves = []\n",
    "\n",
    "for filename in fichiers:\n",
    "    with open(filename, 'r') as file:\n",
    "        contenu_fichier = file.read()\n",
    "        if mot in contenu_fichier:\n",
    "            fichiers_trouves.append(filename)\n",
    "\n",
    "print(fichiers_trouves)"
   ]
  },
  {
   "cell_type": "markdown",
   "metadata": {},
   "source": [
    "<b> - 5: réimplanter la méthode __add__ </b>"
   ]
  },
  {
   "cell_type": "code",
   "execution_count": 41,
   "metadata": {},
   "outputs": [
    {
     "name": "stdout",
     "output_type": "stream",
     "text": [
      "Bonjour tout le monde\n"
     ]
    }
   ],
   "source": [
    "class SuperStr(str):\n",
    "    def __init__(self, chaine):\n",
    "        self.chaine = chaine\n",
    " \n",
    "    def __add__(self, mot):\n",
    "        return SuperStr(f\"{self.chaine} {mot}\")\n",
    " \n",
    "s = SuperStr(\"Bonjour\")\n",
    "print(s + \"tout\" + \"le\" + \"monde\")  "
   ]
  },
  {
   "cell_type": "markdown",
   "metadata": {},
   "source": [
    "Fonctionnement interne à python: le + va directement lire le <b>__ add __</b> de la class, on pourrait en effet écrire: "
   ]
  },
  {
   "cell_type": "code",
   "execution_count": 43,
   "metadata": {},
   "outputs": [
    {
     "name": "stdout",
     "output_type": "stream",
     "text": [
      "Bonjour tout le monde\n"
     ]
    }
   ],
   "source": [
    "print(s.__add__(\"tout\").__add__(\"le\").__add__(\"monde\"))"
   ]
  },
  {
   "cell_type": "markdown",
   "metadata": {},
   "source": [
    "<b> - 6: Créer un algorythme de 'tri à bulles'</b>"
   ]
  },
  {
   "cell_type": "code",
   "execution_count": 44,
   "metadata": {},
   "outputs": [
    {
     "name": "stdout",
     "output_type": "stream",
     "text": [
      "[2, 16, 40, 80, 90]\n"
     ]
    }
   ],
   "source": [
    "def bubble_sort(liste):\n",
    "    for i in range(len(liste) - 1, 0, -1):\n",
    "        for j in range(i):\n",
    "            n_courant = liste[j]\n",
    "            n_suivant = liste[j + 1]\n",
    "            if n_courant > n_suivant:\n",
    "                liste[j] = n_suivant\n",
    "                liste[j + 1] = n_courant\n",
    " \n",
    "    return liste\n",
    " \n",
    "l = [40, 16, 80, 2, 90]\n",
    "print(bubble_sort(l))"
   ]
  },
  {
   "cell_type": "code",
   "execution_count": null,
   "metadata": {},
   "outputs": [],
   "source": [
    "l = [40, 16, 80, 2, 90]"
   ]
  },
  {
   "cell_type": "code",
   "execution_count": null,
   "metadata": {},
   "outputs": [],
   "source": []
  },
  {
   "cell_type": "code",
   "execution_count": null,
   "metadata": {},
   "outputs": [],
   "source": []
  },
  {
   "cell_type": "code",
   "execution_count": null,
   "metadata": {},
   "outputs": [],
   "source": []
  },
  {
   "cell_type": "code",
   "execution_count": null,
   "metadata": {},
   "outputs": [],
   "source": []
  },
  {
   "cell_type": "code",
   "execution_count": null,
   "metadata": {},
   "outputs": [],
   "source": []
  }
 ],
 "metadata": {
  "kernelspec": {
   "display_name": "Python 3",
   "language": "python",
   "name": "python3"
  },
  "language_info": {
   "codemirror_mode": {
    "name": "ipython",
    "version": 3
   },
   "file_extension": ".py",
   "mimetype": "text/x-python",
   "name": "python",
   "nbconvert_exporter": "python",
   "pygments_lexer": "ipython3",
   "version": "3.7.3"
  }
 },
 "nbformat": 4,
 "nbformat_minor": 2
}
